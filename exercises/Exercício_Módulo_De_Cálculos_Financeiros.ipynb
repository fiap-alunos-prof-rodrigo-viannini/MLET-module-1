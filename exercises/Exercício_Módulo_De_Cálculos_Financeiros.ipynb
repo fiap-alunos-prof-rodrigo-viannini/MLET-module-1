{
  "nbformat": 4,
  "nbformat_minor": 0,
  "metadata": {
    "colab": {
      "provenance": []
    },
    "kernelspec": {
      "name": "python3",
      "display_name": "Python 3"
    },
    "language_info": {
      "name": "python"
    }
  },
  "cells": [
    {
      "cell_type": "markdown",
      "source": [
        "#Exercício: Criando um Módulo de Cálculos Financeiros"
      ],
      "metadata": {
        "id": "H65d_NjUj-qC"
      }
    },
    {
      "cell_type": "markdown",
      "source": [
        "**Objetivo:** Criar um módulo Python que realize cálculos financeiros básicos, como cálculo de juros simples e compostos."
      ],
      "metadata": {
        "id": "0c1G1gO4kCtB"
      }
    },
    {
      "cell_type": "markdown",
      "source": [
        "**Passos:**\n",
        "\n",
        "1. Crie um novo diretório para o projeto chamado financial_calculator.\n",
        "\n",
        "\n",
        "2. Dentro desse diretório, crie um arquivo chamado calculations.py.\n",
        "\n",
        "\n",
        "3. No arquivo calculations.py, defina funções para os seguintes cálculos:\n",
        "\n",
        "\n",
        "- simple_interest(principal, rate, time): Calcula o juro simples.\n",
        "\n",
        "\n",
        "- compound_interest(principal, rate, time): Calcula o juro composto.\n",
        "\n",
        "\n",
        "4. Crie um arquivo test_calculations.py para testar as funções criadas usando unittest ou pytest.\n",
        "\n",
        "\n",
        "5. Escreva testes para cada função no arquivo test_calculations.py.\n",
        "\n",
        "\n",
        "6. Documente suas funções com docstrings explicativas.\n",
        "\n",
        "\n",
        "7. Publique seu módulo no GitHub."
      ],
      "metadata": {
        "id": "To6NfE_VkEbb"
      }
    },
    {
      "cell_type": "code",
      "execution_count": null,
      "metadata": {
        "id": "IIOmOX05j2wM"
      },
      "outputs": [],
      "source": []
    }
  ]
}